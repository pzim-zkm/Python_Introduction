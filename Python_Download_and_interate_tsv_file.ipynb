{
 "cells": [
  {
   "cell_type": "markdown",
   "metadata": {},
   "source": [
    "# mit Python eine Datei herunteladen und öffnen "
   ]
  },
  {
   "cell_type": "code",
   "execution_count": 1,
   "metadata": {},
   "outputs": [],
   "source": [
    "#Standardbibliothek - wie eine Art Werkzeugkoffer - importiere von url lib nur den Teil request\n",
    "import urllib.request"
   ]
  },
  {
   "cell_type": "code",
   "execution_count": 2,
   "metadata": {},
   "outputs": [],
   "source": [
    "#Name fuer die zu erstellende Datei\n",
    "tsv_file = \"DOIs_PMIDs_PUBYears.tsv\""
   ]
  },
  {
   "cell_type": "code",
   "execution_count": 3,
   "metadata": {},
   "outputs": [],
   "source": [
    "tsv_url = \"https://raw.githubusercontent.com/foerstner-lab/Bits_and_pieces_for_the_carpentries_workshops/master/text_file_examples/DOIs_PMIDs_PubYears.tsv\""
   ]
  },
  {
   "cell_type": "code",
   "execution_count": 4,
   "metadata": {},
   "outputs": [
    {
     "data": {
      "text/plain": [
       "('DOIs_PMIDs_PUBYears.tsv', <http.client.HTTPMessage at 0x109f415f8>)"
      ]
     },
     "execution_count": 4,
     "metadata": {},
     "output_type": "execute_result"
    }
   ],
   "source": [
    "urllib.request.urlretrieve(tsv_url, tsv_file)"
   ]
  },
  {
   "cell_type": "code",
   "execution_count": 5,
   "metadata": {},
   "outputs": [
    {
     "name": "stdout",
     "output_type": "stream",
     "text": [
      "DOI\tPMID\tYear\n",
      "\n",
      "10.1186/s13326-017-0123-3\t28412964\t2017\n",
      "\n",
      "10.1093/bioinformatics/btw331\t27288493\t2016\n",
      "\n",
      "10.1007/s11306-018-1356-6\t29706851\t2018\n",
      "\n",
      "10.1371/journal.pcbi.1004447\t26335558\t2015\n",
      "\n",
      "10.1093/bioinformatics/btv363.\t26085503\t2015\n",
      "\n",
      "10.1371/journal.pbio.3000246\t31042704\t2019\n",
      "\n",
      "10.7717/peerj.6762\t30997295\t2019\n",
      "\n",
      "10.3389/fpsyg.2019.00564\t30949097\t2019\n",
      "\n"
     ]
    }
   ],
   "source": [
    "#öffnen der Datei\n",
    "for line in open(tsv_file):\n",
    "    print(line)"
   ]
  },
  {
   "cell_type": "code",
   "execution_count": 7,
   "metadata": {},
   "outputs": [
    {
     "name": "stdout",
     "output_type": "stream",
     "text": [
      "DOI\tPMID\tYear\n",
      "\n",
      "10.1186/s13326-017-0123-3\t28412964\t2017\n",
      "\n",
      "10.1093/bioinformatics/btw331\t27288493\t2016\n",
      "\n",
      "10.1007/s11306-018-1356-6\t29706851\t2018\n",
      "\n",
      "10.1371/journal.pcbi.1004447\t26335558\t2015\n",
      "\n",
      "10.1093/bioinformatics/btv363.\t26085503\t2015\n",
      "\n",
      "10.1371/journal.pbio.3000246\t31042704\t2019\n",
      "\n",
      "10.7717/peerj.6762\t30997295\t2019\n",
      "\n",
      "10.3389/fpsyg.2019.00564\t30949097\t2019\n",
      "\n"
     ]
    }
   ],
   "source": [
    "#der Name line spielte keine Rolle - es kann ein beliebiger, sinniger sein\n",
    "for apfel in open(tsv_file):\n",
    "    print(apfel)"
   ]
  },
  {
   "cell_type": "code",
   "execution_count": 8,
   "metadata": {},
   "outputs": [
    {
     "name": "stdout",
     "output_type": "stream",
     "text": [
      "DOI\tPMID\tYear\n",
      "\n",
      "---\n",
      "10.1186/s13326-017-0123-3\t28412964\t2017\n",
      "\n",
      "---\n",
      "10.1093/bioinformatics/btw331\t27288493\t2016\n",
      "\n",
      "---\n",
      "10.1007/s11306-018-1356-6\t29706851\t2018\n",
      "\n",
      "---\n",
      "10.1371/journal.pcbi.1004447\t26335558\t2015\n",
      "\n",
      "---\n",
      "10.1093/bioinformatics/btv363.\t26085503\t2015\n",
      "\n",
      "---\n",
      "10.1371/journal.pbio.3000246\t31042704\t2019\n",
      "\n",
      "---\n",
      "10.7717/peerj.6762\t30997295\t2019\n",
      "\n",
      "---\n",
      "10.3389/fpsyg.2019.00564\t30949097\t2019\n",
      "\n",
      "---\n"
     ]
    }
   ],
   "source": [
    "for line in open(tsv_file):\n",
    "    print(line)\n",
    "    print(\"---\")"
   ]
  },
  {
   "cell_type": "code",
   "execution_count": 9,
   "metadata": {},
   "outputs": [
    {
     "name": "stdout",
     "output_type": "stream",
     "text": [
      "['DOI', 'PMID', 'Year\\n']\n",
      "---\n",
      "['10.1186/s13326-017-0123-3', '28412964', '2017\\n']\n",
      "---\n",
      "['10.1093/bioinformatics/btw331', '27288493', '2016\\n']\n",
      "---\n",
      "['10.1007/s11306-018-1356-6', '29706851', '2018\\n']\n",
      "---\n",
      "['10.1371/journal.pcbi.1004447', '26335558', '2015\\n']\n",
      "---\n",
      "['10.1093/bioinformatics/btv363.', '26085503', '2015\\n']\n",
      "---\n",
      "['10.1371/journal.pbio.3000246', '31042704', '2019\\n']\n",
      "---\n",
      "['10.7717/peerj.6762', '30997295', '2019\\n']\n",
      "---\n",
      "['10.3389/fpsyg.2019.00564', '30949097', '2019\\n']\n",
      "---\n"
     ]
    }
   ],
   "source": [
    "#Übung mit Backslah vor dem t  alt + shift + 7\n",
    "for line in open(tsv_file):\n",
    "    print(line.split(\"\\t\"))\n",
    "    print(\"---\")\n",
    "\n"
   ]
  },
  {
   "cell_type": "code",
   "execution_count": 10,
   "metadata": {},
   "outputs": [
    {
     "name": "stdout",
     "output_type": "stream",
     "text": [
      "DOI\n",
      "10.1186/s13326-017-0123-3\n",
      "10.1093/bioinformatics/btw331\n",
      "10.1007/s11306-018-1356-6\n",
      "10.1371/journal.pcbi.1004447\n",
      "10.1093/bioinformatics/btv363.\n",
      "10.1371/journal.pbio.3000246\n",
      "10.7717/peerj.6762\n",
      "10.3389/fpsyg.2019.00564\n"
     ]
    }
   ],
   "source": [
    "#Uebung mit \n",
    "for line in open (tsv_file):\n",
    "    split_line = line.split(\"\\t\")\n",
    "    print(split_line[0])"
   ]
  },
  {
   "cell_type": "code",
   "execution_count": null,
   "metadata": {},
   "outputs": [],
   "source": []
  }
 ],
 "metadata": {
  "kernelspec": {
   "display_name": "Python 3",
   "language": "python",
   "name": "python3"
  },
  "language_info": {
   "codemirror_mode": {
    "name": "ipython",
    "version": 3
   },
   "file_extension": ".py",
   "mimetype": "text/x-python",
   "name": "python",
   "nbconvert_exporter": "python",
   "pygments_lexer": "ipython3",
   "version": "3.7.3"
  }
 },
 "nbformat": 4,
 "nbformat_minor": 2
}
